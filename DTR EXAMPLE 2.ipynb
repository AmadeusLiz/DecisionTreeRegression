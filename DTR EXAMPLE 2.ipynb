{
 "cells": [
  {
   "cell_type": "code",
   "execution_count": 129,
   "id": "5e276c20",
   "metadata": {},
   "outputs": [],
   "source": [
    "from pyspark.sql import SparkSession\n",
    "from pyspark.ml.regression import DecisionTreeRegressor\n",
    "from pyspark.ml.feature import StringIndexer, VectorAssembler\n",
    "from pyspark.ml import Pipeline\n",
    "import pandas as pd"
   ]
  },
  {
   "cell_type": "code",
   "execution_count": 130,
   "id": "c9a44f3c",
   "metadata": {},
   "outputs": [],
   "source": [
    "spark = SparkSession.builder.appName('Decision Tree Regression').getOrCreate()"
   ]
  },
  {
   "cell_type": "code",
   "execution_count": 131,
   "id": "6054cba7",
   "metadata": {},
   "outputs": [
    {
     "name": "stdout",
     "output_type": "stream",
     "text": [
      "root\n",
      " |-- age: integer (nullable = true)\n",
      " |-- job: string (nullable = true)\n",
      " |-- marital: string (nullable = true)\n",
      " |-- education: string (nullable = true)\n",
      " |-- default: string (nullable = true)\n",
      " |-- balance: integer (nullable = true)\n",
      " |-- housing: string (nullable = true)\n",
      " |-- loan: string (nullable = true)\n",
      " |-- contact: string (nullable = true)\n",
      " |-- day: integer (nullable = true)\n",
      " |-- month: string (nullable = true)\n",
      " |-- duration: integer (nullable = true)\n",
      " |-- campaign: integer (nullable = true)\n",
      " |-- pdays: integer (nullable = true)\n",
      " |-- previous: integer (nullable = true)\n",
      " |-- poutcome: string (nullable = true)\n",
      " |-- deposit: string (nullable = true)\n",
      "\n"
     ]
    }
   ],
   "source": [
    "data = spark.read.csv('bank_data.csv', header = True, inferSchema = True)\n",
    "data.printSchema()"
   ]
  },
  {
   "cell_type": "code",
   "execution_count": 132,
   "id": "6321b88e",
   "metadata": {},
   "outputs": [
    {
     "data": {
      "text/html": [
       "<div>\n",
       "<style scoped>\n",
       "    .dataframe tbody tr th:only-of-type {\n",
       "        vertical-align: middle;\n",
       "    }\n",
       "\n",
       "    .dataframe tbody tr th {\n",
       "        vertical-align: top;\n",
       "    }\n",
       "\n",
       "    .dataframe thead th {\n",
       "        text-align: right;\n",
       "    }\n",
       "</style>\n",
       "<table border=\"1\" class=\"dataframe\">\n",
       "  <thead>\n",
       "    <tr style=\"text-align: right;\">\n",
       "      <th></th>\n",
       "      <th>0</th>\n",
       "      <th>1</th>\n",
       "      <th>2</th>\n",
       "      <th>3</th>\n",
       "      <th>4</th>\n",
       "      <th>5</th>\n",
       "      <th>6</th>\n",
       "      <th>7</th>\n",
       "      <th>8</th>\n",
       "      <th>9</th>\n",
       "      <th>10</th>\n",
       "      <th>11</th>\n",
       "    </tr>\n",
       "  </thead>\n",
       "  <tbody>\n",
       "    <tr>\n",
       "      <th>age</th>\n",
       "      <td>59</td>\n",
       "      <td>56</td>\n",
       "      <td>41</td>\n",
       "      <td>55</td>\n",
       "      <td>54</td>\n",
       "      <td>42</td>\n",
       "      <td>56</td>\n",
       "      <td>60</td>\n",
       "      <td>37</td>\n",
       "      <td>28</td>\n",
       "      <td>38</td>\n",
       "      <td>30</td>\n",
       "    </tr>\n",
       "    <tr>\n",
       "      <th>job</th>\n",
       "      <td>admin.</td>\n",
       "      <td>admin.</td>\n",
       "      <td>technician</td>\n",
       "      <td>services</td>\n",
       "      <td>admin.</td>\n",
       "      <td>management</td>\n",
       "      <td>management</td>\n",
       "      <td>retired</td>\n",
       "      <td>technician</td>\n",
       "      <td>services</td>\n",
       "      <td>admin.</td>\n",
       "      <td>blue-collar</td>\n",
       "    </tr>\n",
       "    <tr>\n",
       "      <th>marital</th>\n",
       "      <td>married</td>\n",
       "      <td>married</td>\n",
       "      <td>married</td>\n",
       "      <td>married</td>\n",
       "      <td>married</td>\n",
       "      <td>single</td>\n",
       "      <td>married</td>\n",
       "      <td>divorced</td>\n",
       "      <td>married</td>\n",
       "      <td>single</td>\n",
       "      <td>single</td>\n",
       "      <td>married</td>\n",
       "    </tr>\n",
       "    <tr>\n",
       "      <th>education</th>\n",
       "      <td>secondary</td>\n",
       "      <td>secondary</td>\n",
       "      <td>secondary</td>\n",
       "      <td>secondary</td>\n",
       "      <td>tertiary</td>\n",
       "      <td>tertiary</td>\n",
       "      <td>tertiary</td>\n",
       "      <td>secondary</td>\n",
       "      <td>secondary</td>\n",
       "      <td>secondary</td>\n",
       "      <td>secondary</td>\n",
       "      <td>secondary</td>\n",
       "    </tr>\n",
       "    <tr>\n",
       "      <th>default</th>\n",
       "      <td>no</td>\n",
       "      <td>no</td>\n",
       "      <td>no</td>\n",
       "      <td>no</td>\n",
       "      <td>no</td>\n",
       "      <td>no</td>\n",
       "      <td>no</td>\n",
       "      <td>no</td>\n",
       "      <td>no</td>\n",
       "      <td>no</td>\n",
       "      <td>no</td>\n",
       "      <td>no</td>\n",
       "    </tr>\n",
       "    <tr>\n",
       "      <th>balance</th>\n",
       "      <td>2343</td>\n",
       "      <td>45</td>\n",
       "      <td>1270</td>\n",
       "      <td>2476</td>\n",
       "      <td>184</td>\n",
       "      <td>0</td>\n",
       "      <td>830</td>\n",
       "      <td>545</td>\n",
       "      <td>1</td>\n",
       "      <td>5090</td>\n",
       "      <td>100</td>\n",
       "      <td>309</td>\n",
       "    </tr>\n",
       "    <tr>\n",
       "      <th>housing</th>\n",
       "      <td>yes</td>\n",
       "      <td>no</td>\n",
       "      <td>yes</td>\n",
       "      <td>yes</td>\n",
       "      <td>no</td>\n",
       "      <td>yes</td>\n",
       "      <td>yes</td>\n",
       "      <td>yes</td>\n",
       "      <td>yes</td>\n",
       "      <td>yes</td>\n",
       "      <td>yes</td>\n",
       "      <td>yes</td>\n",
       "    </tr>\n",
       "    <tr>\n",
       "      <th>loan</th>\n",
       "      <td>no</td>\n",
       "      <td>no</td>\n",
       "      <td>no</td>\n",
       "      <td>no</td>\n",
       "      <td>no</td>\n",
       "      <td>yes</td>\n",
       "      <td>yes</td>\n",
       "      <td>no</td>\n",
       "      <td>no</td>\n",
       "      <td>no</td>\n",
       "      <td>no</td>\n",
       "      <td>no</td>\n",
       "    </tr>\n",
       "    <tr>\n",
       "      <th>contact</th>\n",
       "      <td>unknown</td>\n",
       "      <td>unknown</td>\n",
       "      <td>unknown</td>\n",
       "      <td>unknown</td>\n",
       "      <td>unknown</td>\n",
       "      <td>unknown</td>\n",
       "      <td>unknown</td>\n",
       "      <td>unknown</td>\n",
       "      <td>unknown</td>\n",
       "      <td>unknown</td>\n",
       "      <td>unknown</td>\n",
       "      <td>unknown</td>\n",
       "    </tr>\n",
       "    <tr>\n",
       "      <th>day</th>\n",
       "      <td>5</td>\n",
       "      <td>5</td>\n",
       "      <td>5</td>\n",
       "      <td>5</td>\n",
       "      <td>5</td>\n",
       "      <td>5</td>\n",
       "      <td>6</td>\n",
       "      <td>6</td>\n",
       "      <td>6</td>\n",
       "      <td>6</td>\n",
       "      <td>7</td>\n",
       "      <td>7</td>\n",
       "    </tr>\n",
       "    <tr>\n",
       "      <th>month</th>\n",
       "      <td>may</td>\n",
       "      <td>may</td>\n",
       "      <td>may</td>\n",
       "      <td>may</td>\n",
       "      <td>may</td>\n",
       "      <td>may</td>\n",
       "      <td>may</td>\n",
       "      <td>may</td>\n",
       "      <td>may</td>\n",
       "      <td>may</td>\n",
       "      <td>may</td>\n",
       "      <td>may</td>\n",
       "    </tr>\n",
       "    <tr>\n",
       "      <th>duration</th>\n",
       "      <td>1042</td>\n",
       "      <td>1467</td>\n",
       "      <td>1389</td>\n",
       "      <td>579</td>\n",
       "      <td>673</td>\n",
       "      <td>562</td>\n",
       "      <td>1201</td>\n",
       "      <td>1030</td>\n",
       "      <td>608</td>\n",
       "      <td>1297</td>\n",
       "      <td>786</td>\n",
       "      <td>1574</td>\n",
       "    </tr>\n",
       "    <tr>\n",
       "      <th>campaign</th>\n",
       "      <td>1</td>\n",
       "      <td>1</td>\n",
       "      <td>1</td>\n",
       "      <td>1</td>\n",
       "      <td>2</td>\n",
       "      <td>2</td>\n",
       "      <td>1</td>\n",
       "      <td>1</td>\n",
       "      <td>1</td>\n",
       "      <td>3</td>\n",
       "      <td>1</td>\n",
       "      <td>2</td>\n",
       "    </tr>\n",
       "    <tr>\n",
       "      <th>pdays</th>\n",
       "      <td>-1</td>\n",
       "      <td>-1</td>\n",
       "      <td>-1</td>\n",
       "      <td>-1</td>\n",
       "      <td>-1</td>\n",
       "      <td>-1</td>\n",
       "      <td>-1</td>\n",
       "      <td>-1</td>\n",
       "      <td>-1</td>\n",
       "      <td>-1</td>\n",
       "      <td>-1</td>\n",
       "      <td>-1</td>\n",
       "    </tr>\n",
       "    <tr>\n",
       "      <th>previous</th>\n",
       "      <td>0</td>\n",
       "      <td>0</td>\n",
       "      <td>0</td>\n",
       "      <td>0</td>\n",
       "      <td>0</td>\n",
       "      <td>0</td>\n",
       "      <td>0</td>\n",
       "      <td>0</td>\n",
       "      <td>0</td>\n",
       "      <td>0</td>\n",
       "      <td>0</td>\n",
       "      <td>0</td>\n",
       "    </tr>\n",
       "    <tr>\n",
       "      <th>poutcome</th>\n",
       "      <td>unknown</td>\n",
       "      <td>unknown</td>\n",
       "      <td>unknown</td>\n",
       "      <td>unknown</td>\n",
       "      <td>unknown</td>\n",
       "      <td>unknown</td>\n",
       "      <td>unknown</td>\n",
       "      <td>unknown</td>\n",
       "      <td>unknown</td>\n",
       "      <td>unknown</td>\n",
       "      <td>unknown</td>\n",
       "      <td>unknown</td>\n",
       "    </tr>\n",
       "    <tr>\n",
       "      <th>deposit</th>\n",
       "      <td>yes</td>\n",
       "      <td>yes</td>\n",
       "      <td>yes</td>\n",
       "      <td>yes</td>\n",
       "      <td>yes</td>\n",
       "      <td>yes</td>\n",
       "      <td>yes</td>\n",
       "      <td>yes</td>\n",
       "      <td>yes</td>\n",
       "      <td>yes</td>\n",
       "      <td>yes</td>\n",
       "      <td>yes</td>\n",
       "    </tr>\n",
       "  </tbody>\n",
       "</table>\n",
       "</div>"
      ],
      "text/plain": [
       "                  0          1           2          3         4           5   \\\n",
       "age               59         56          41         55        54          42   \n",
       "job           admin.     admin.  technician   services    admin.  management   \n",
       "marital      married    married     married    married   married      single   \n",
       "education  secondary  secondary   secondary  secondary  tertiary    tertiary   \n",
       "default           no         no          no         no        no          no   \n",
       "balance         2343         45        1270       2476       184           0   \n",
       "housing          yes         no         yes        yes        no         yes   \n",
       "loan              no         no          no         no        no         yes   \n",
       "contact      unknown    unknown     unknown    unknown   unknown     unknown   \n",
       "day                5          5           5          5         5           5   \n",
       "month            may        may         may        may       may         may   \n",
       "duration        1042       1467        1389        579       673         562   \n",
       "campaign           1          1           1          1         2           2   \n",
       "pdays             -1         -1          -1         -1        -1          -1   \n",
       "previous           0          0           0          0         0           0   \n",
       "poutcome     unknown    unknown     unknown    unknown   unknown     unknown   \n",
       "deposit          yes        yes         yes        yes       yes         yes   \n",
       "\n",
       "                   6          7           8          9          10  \\\n",
       "age                56         60          37         28         38   \n",
       "job        management    retired  technician   services     admin.   \n",
       "marital       married   divorced     married     single     single   \n",
       "education    tertiary  secondary   secondary  secondary  secondary   \n",
       "default            no         no          no         no         no   \n",
       "balance           830        545           1       5090        100   \n",
       "housing           yes        yes         yes        yes        yes   \n",
       "loan              yes         no          no         no         no   \n",
       "contact       unknown    unknown     unknown    unknown    unknown   \n",
       "day                 6          6           6          6          7   \n",
       "month             may        may         may        may        may   \n",
       "duration         1201       1030         608       1297        786   \n",
       "campaign            1          1           1          3          1   \n",
       "pdays              -1         -1          -1         -1         -1   \n",
       "previous            0          0           0          0          0   \n",
       "poutcome      unknown    unknown     unknown    unknown    unknown   \n",
       "deposit           yes        yes         yes        yes        yes   \n",
       "\n",
       "                    11  \n",
       "age                 30  \n",
       "job        blue-collar  \n",
       "marital        married  \n",
       "education    secondary  \n",
       "default             no  \n",
       "balance            309  \n",
       "housing            yes  \n",
       "loan                no  \n",
       "contact        unknown  \n",
       "day                  7  \n",
       "month              may  \n",
       "duration          1574  \n",
       "campaign             2  \n",
       "pdays               -1  \n",
       "previous             0  \n",
       "poutcome       unknown  \n",
       "deposit            yes  "
      ]
     },
     "execution_count": 132,
     "metadata": {},
     "output_type": "execute_result"
    }
   ],
   "source": [
    "pd.DataFrame(data.take(12), columns=data.columns).transpose()"
   ]
  },
  {
   "cell_type": "markdown",
   "id": "d315b8ff",
   "metadata": {},
   "source": [
    "Filtramos los datos que son de tipo numérico, ya sea enteros o dobles para poder utilizar Panda para describirlo y sacar los promedios, el mínimo y máximo de los datos, entre otros."
   ]
  },
  {
   "cell_type": "code",
   "execution_count": 133,
   "id": "ffb26040",
   "metadata": {},
   "outputs": [
    {
     "data": {
      "text/html": [
       "<div>\n",
       "<style scoped>\n",
       "    .dataframe tbody tr th:only-of-type {\n",
       "        vertical-align: middle;\n",
       "    }\n",
       "\n",
       "    .dataframe tbody tr th {\n",
       "        vertical-align: top;\n",
       "    }\n",
       "\n",
       "    .dataframe thead th {\n",
       "        text-align: right;\n",
       "    }\n",
       "</style>\n",
       "<table border=\"1\" class=\"dataframe\">\n",
       "  <thead>\n",
       "    <tr style=\"text-align: right;\">\n",
       "      <th></th>\n",
       "      <th>0</th>\n",
       "      <th>1</th>\n",
       "      <th>2</th>\n",
       "      <th>3</th>\n",
       "      <th>4</th>\n",
       "    </tr>\n",
       "  </thead>\n",
       "  <tbody>\n",
       "    <tr>\n",
       "      <th>summary</th>\n",
       "      <td>count</td>\n",
       "      <td>mean</td>\n",
       "      <td>stddev</td>\n",
       "      <td>min</td>\n",
       "      <td>max</td>\n",
       "    </tr>\n",
       "    <tr>\n",
       "      <th>age</th>\n",
       "      <td>11162</td>\n",
       "      <td>41.231947679627304</td>\n",
       "      <td>11.913369192215518</td>\n",
       "      <td>18</td>\n",
       "      <td>95</td>\n",
       "    </tr>\n",
       "    <tr>\n",
       "      <th>balance</th>\n",
       "      <td>11162</td>\n",
       "      <td>1528.5385235620856</td>\n",
       "      <td>3225.413325946149</td>\n",
       "      <td>-6847</td>\n",
       "      <td>81204</td>\n",
       "    </tr>\n",
       "    <tr>\n",
       "      <th>day</th>\n",
       "      <td>11162</td>\n",
       "      <td>15.658036194230425</td>\n",
       "      <td>8.420739541006462</td>\n",
       "      <td>1</td>\n",
       "      <td>31</td>\n",
       "    </tr>\n",
       "    <tr>\n",
       "      <th>duration</th>\n",
       "      <td>11162</td>\n",
       "      <td>371.99381831213043</td>\n",
       "      <td>347.12838571630687</td>\n",
       "      <td>2</td>\n",
       "      <td>3881</td>\n",
       "    </tr>\n",
       "    <tr>\n",
       "      <th>campaign</th>\n",
       "      <td>11162</td>\n",
       "      <td>2.508421429851281</td>\n",
       "      <td>2.7220771816614824</td>\n",
       "      <td>1</td>\n",
       "      <td>63</td>\n",
       "    </tr>\n",
       "    <tr>\n",
       "      <th>pdays</th>\n",
       "      <td>11162</td>\n",
       "      <td>51.33040673714388</td>\n",
       "      <td>108.75828197197717</td>\n",
       "      <td>-1</td>\n",
       "      <td>854</td>\n",
       "    </tr>\n",
       "    <tr>\n",
       "      <th>previous</th>\n",
       "      <td>11162</td>\n",
       "      <td>0.8325568894463358</td>\n",
       "      <td>2.292007218670508</td>\n",
       "      <td>0</td>\n",
       "      <td>58</td>\n",
       "    </tr>\n",
       "  </tbody>\n",
       "</table>\n",
       "</div>"
      ],
      "text/plain": [
       "              0                   1                   2      3      4\n",
       "summary   count                mean              stddev    min    max\n",
       "age       11162  41.231947679627304  11.913369192215518     18     95\n",
       "balance   11162  1528.5385235620856   3225.413325946149  -6847  81204\n",
       "day       11162  15.658036194230425   8.420739541006462      1     31\n",
       "duration  11162  371.99381831213043  347.12838571630687      2   3881\n",
       "campaign  11162   2.508421429851281  2.7220771816614824      1     63\n",
       "pdays     11162   51.33040673714388  108.75828197197717     -1    854\n",
       "previous  11162  0.8325568894463358   2.292007218670508      0     58"
      ]
     },
     "execution_count": 133,
     "metadata": {},
     "output_type": "execute_result"
    }
   ],
   "source": [
    "numeric_features = [i[0] for i in data.dtypes if i[1] == 'int' or i[1] == 'double']\n",
    "data.select(numeric_features).describe().toPandas().transpose()"
   ]
  },
  {
   "cell_type": "markdown",
   "id": "696b0ce6",
   "metadata": {},
   "source": [
    "## Procesamiento de los datos para crear el modelo  "
   ]
  },
  {
   "cell_type": "markdown",
   "id": "afd9a207",
   "metadata": {},
   "source": [
    "Creación de los pipelines que nos ayudará realizar multiples pasos, la salida que tenemos de cada uno de los pasos es la entrada del siguiente"
   ]
  },
  {
   "cell_type": "code",
   "execution_count": 134,
   "id": "31e98dfe",
   "metadata": {},
   "outputs": [],
   "source": [
    "pipeline_stages=[] #arreglo donde se almacenarán los pipelines stages posteriormente"
   ]
  },
  {
   "cell_type": "code",
   "execution_count": 135,
   "id": "8710f858",
   "metadata": {},
   "outputs": [],
   "source": [
    "# Separar las columnas de tipo categóricas\n",
    "categorical_columns = ['job', 'marital', 'education', 'default', 'housing', 'loan', 'contact', 'poutcome','deposit']"
   ]
  },
  {
   "cell_type": "code",
   "execution_count": 136,
   "id": "45e46b75",
   "metadata": {},
   "outputs": [],
   "source": [
    "# Ciclo for para ir usando StringIndexer y especificar los nombres de las columnas categóricas que convertiremos\n",
    "# Estas se van añadiendo una vez convertidas a los pipelines stages que utilizaremos luego\n",
    "for value in categorical_columns:\n",
    "    string_indexer = StringIndexer(inputCol=value, outputCol=value+\"Indexer\")\n",
    "    pipeline_stages += [string_indexer]"
   ]
  },
  {
   "cell_type": "code",
   "execution_count": 137,
   "id": "5e25578f",
   "metadata": {},
   "outputs": [],
   "source": [
    "numerical_columns = ['age', 'duration', 'campaign', 'pdays', 'previous'] # Agrupar nombres de las columnas de tipo numérico"
   ]
  },
  {
   "cell_type": "code",
   "execution_count": 138,
   "id": "401ce02b",
   "metadata": {},
   "outputs": [
    {
     "data": {
      "text/plain": [
       "['jobIndexer',\n",
       " 'maritalIndexer',\n",
       " 'educationIndexer',\n",
       " 'defaultIndexer',\n",
       " 'housingIndexer',\n",
       " 'loanIndexer',\n",
       " 'contactIndexer',\n",
       " 'poutcomeIndexer',\n",
       " 'depositIndexer',\n",
       " 'age',\n",
       " 'duration',\n",
       " 'campaign',\n",
       " 'pdays',\n",
       " 'previous']"
      ]
     },
     "execution_count": 138,
     "metadata": {},
     "output_type": "execute_result"
    }
   ],
   "source": [
    "# Lista para combinar los nombres de las columnas categóricas (que al transformarse les agregamos el sufijo Indexer)\n",
    "# con los de las numéricas\n",
    "combined_columns = [columns + \"Indexer\" for columns in categorical_columns] + numerical_columns\n",
    "combined_columns"
   ]
  },
  {
   "cell_type": "code",
   "execution_count": 139,
   "id": "03d07de9",
   "metadata": {},
   "outputs": [],
   "source": [
    "# Especificar variables de entrada para el vector assembler\n",
    "vector_assembler = VectorAssembler(inputCols=combined_columns, outputCol=\"features\")\n",
    "\n",
    "# Añadir el vector assembler a los pipelines stages\n",
    "pipeline_stages += [vector_assembler]"
   ]
  },
  {
   "cell_type": "code",
   "execution_count": 140,
   "id": "82b7684a",
   "metadata": {},
   "outputs": [],
   "source": [
    "pipeline = Pipeline(stages = pipeline_stages) # Pasos que quiero ejecutar para obtener la información, stages"
   ]
  },
  {
   "cell_type": "code",
   "execution_count": 141,
   "id": "d0621627",
   "metadata": {},
   "outputs": [],
   "source": [
    "pipeline_fit = pipeline.fit(data).transform(data)"
   ]
  },
  {
   "cell_type": "code",
   "execution_count": 152,
   "id": "b4687d1f",
   "metadata": {},
   "outputs": [
    {
     "data": {
      "text/plain": [
       "DataFrame[age: int, job: string, marital: string, education: string, default: string, balance: int, housing: string, loan: string, contact: string, day: int, month: string, duration: int, campaign: int, pdays: int, previous: int, poutcome: string, deposit: string, jobIndexer: double, maritalIndexer: double, educationIndexer: double, defaultIndexer: double, housingIndexer: double, loanIndexer: double, contactIndexer: double, poutcomeIndexer: double, depositIndexer: double, features: vector]"
      ]
     },
     "execution_count": 152,
     "metadata": {},
     "output_type": "execute_result"
    }
   ],
   "source": [
    "pipeline_fit"
   ]
  },
  {
   "cell_type": "code",
   "execution_count": 142,
   "id": "721b73be",
   "metadata": {
    "scrolled": true
   },
   "outputs": [
    {
     "name": "stdout",
     "output_type": "stream",
     "text": [
      "root\n",
      " |-- features: vector (nullable = true)\n",
      " |-- balance: integer (nullable = true)\n",
      "\n"
     ]
    }
   ],
   "source": [
    "data = pipeline_fit.select([\"features\",\"balance\"])\n",
    "data.printSchema()"
   ]
  },
  {
   "cell_type": "code",
   "execution_count": 174,
   "id": "970728b2",
   "metadata": {},
   "outputs": [
    {
     "name": "stdout",
     "output_type": "stream",
     "text": [
      "Training Dataset Count: 7836\n",
      "Test Dataset Count: 3326\n"
     ]
    }
   ],
   "source": [
    "# Separar los datos\n",
    "training_data, testing_data = data.randomSplit([0.7, 0.3])\n",
    "print(\"Training Dataset Count: \" + str(training_data.count()))\n",
    "print(\"Test Dataset Count: \" + str(testing_data.count()))"
   ]
  },
  {
   "cell_type": "markdown",
   "id": "98b60dd3",
   "metadata": {},
   "source": [
    "## Ajuste e implementación del modelo"
   ]
  },
  {
   "cell_type": "code",
   "execution_count": 178,
   "id": "78c9f63d",
   "metadata": {},
   "outputs": [],
   "source": [
    "decisiontreeregressor = DecisionTreeRegressor(featuresCol = 'features', labelCol = 'balance', maxDepth = 10)\n",
    "model = decisiontreeregressor.fit(training_data)"
   ]
  },
  {
   "cell_type": "markdown",
   "id": "c73251ee",
   "metadata": {},
   "source": [
    "## Predicción del modelo"
   ]
  },
  {
   "cell_type": "code",
   "execution_count": 176,
   "id": "bfa3dbae",
   "metadata": {},
   "outputs": [
    {
     "name": "stdout",
     "output_type": "stream",
     "text": [
      "+-------+------------------+\n",
      "|balance|        prediction|\n",
      "+-------+------------------+\n",
      "|   3014|             715.5|\n",
      "|   -295| 635.7724137931034|\n",
      "|    426| 635.7724137931034|\n",
      "|      1|             715.5|\n",
      "|      0|1695.8507462686566|\n",
      "|    258|             715.5|\n",
      "|    910|1125.6614583333333|\n",
      "|   2744|1125.6614583333333|\n",
      "|    195|1125.6614583333333|\n",
      "|   9851|1125.6614583333333|\n",
      "+-------+------------------+\n",
      "only showing top 10 rows\n",
      "\n"
     ]
    }
   ],
   "source": [
    "predictions = model.transform(testing_data)\n",
    "predictions.select('balance','prediction').show(10)"
   ]
  },
  {
   "cell_type": "code",
   "execution_count": 177,
   "id": "d8d4d225",
   "metadata": {},
   "outputs": [
    {
     "name": "stdout",
     "output_type": "stream",
     "text": [
      "Margen de error = 4421.27\n"
     ]
    }
   ],
   "source": [
    "from pyspark.ml.evaluation import RegressionEvaluator\n",
    "evaluator = RegressionEvaluator(labelCol='balance', predictionCol='prediction', metricName='rmse')\n",
    "rmse = evaluator.evaluate(predictions)\n",
    "print(\"Margen de error = %g\" % rmse)"
   ]
  },
  {
   "cell_type": "markdown",
   "id": "300f1364",
   "metadata": {},
   "source": [
    "## NEW BANK DATA\n",
    "Aplicar el modelo creado para hacer predicciones de nuevos datos"
   ]
  },
  {
   "cell_type": "code",
   "execution_count": 147,
   "id": "569b2197",
   "metadata": {},
   "outputs": [],
   "source": [
    "new_clients = spark.read.csv('new_bank_data.csv',inferSchema=True, header=True)"
   ]
  },
  {
   "cell_type": "code",
   "execution_count": 148,
   "id": "37d097d9",
   "metadata": {},
   "outputs": [
    {
     "name": "stdout",
     "output_type": "stream",
     "text": [
      "root\n",
      " |-- age: integer (nullable = true)\n",
      " |-- job: string (nullable = true)\n",
      " |-- marital: string (nullable = true)\n",
      " |-- education: string (nullable = true)\n",
      " |-- default: string (nullable = true)\n",
      " |-- housing: string (nullable = true)\n",
      " |-- loan: string (nullable = true)\n",
      " |-- contact: string (nullable = true)\n",
      " |-- day: integer (nullable = true)\n",
      " |-- month: string (nullable = true)\n",
      " |-- duration: integer (nullable = true)\n",
      " |-- campaign: integer (nullable = true)\n",
      " |-- pdays: integer (nullable = true)\n",
      " |-- previous: integer (nullable = true)\n",
      " |-- poutcome: string (nullable = true)\n",
      " |-- deposit: string (nullable = true)\n",
      "\n"
     ]
    }
   ],
   "source": [
    "new_clients.printSchema()"
   ]
  },
  {
   "cell_type": "code",
   "execution_count": 149,
   "id": "c6893686",
   "metadata": {},
   "outputs": [],
   "source": [
    "test_new_clients =  pipeline.fit(new_clients).transform(new_clients)"
   ]
  },
  {
   "cell_type": "code",
   "execution_count": 150,
   "id": "1e1a5060",
   "metadata": {},
   "outputs": [],
   "source": [
    "# Utilizamos el modelo de DecisionTreeRegressor creado anteriormente\n",
    "final_predictions = model.transform(test_new_clients)"
   ]
  },
  {
   "cell_type": "code",
   "execution_count": 151,
   "id": "41c3aa46",
   "metadata": {},
   "outputs": [
    {
     "name": "stdout",
     "output_type": "stream",
     "text": [
      "+--------------------+------------------+\n",
      "|            features|        prediction|\n",
      "+--------------------+------------------+\n",
      "|[0.0,0.0,1.0,0.0,...|1923.1463963963963|\n",
      "|[1.0,1.0,0.0,0.0,...|             347.2|\n",
      "|(14,[0,1,3,7,9,10...| 968.3629242819843|\n",
      "|(14,[0,1,7,9,10,1...| 968.3629242819843|\n",
      "|(14,[2,3,4,9,10,1...|  594.303448275862|\n",
      "|(14,[2,5,8,9,10,1...| 662.8115942028985|\n",
      "|[1.0,2.0,0.0,0.0,...| 662.8115942028985|\n",
      "|(14,[0,1,3,9,10,1...|            385.75|\n",
      "|[3.0,1.0,0.0,1.0,...|1591.7884615384614|\n",
      "|(14,[0,2,7,8,9,10...| 1411.364406779661|\n",
      "+--------------------+------------------+\n",
      "\n"
     ]
    }
   ],
   "source": [
    "final_predictions.select('features','prediction').show()"
   ]
  },
  {
   "cell_type": "markdown",
   "id": "dc28469e",
   "metadata": {},
   "source": [
    "## Conclusión"
   ]
  },
  {
   "cell_type": "markdown",
   "id": "6b34b0fe",
   "metadata": {},
   "source": [
    "Al analizar los datos, ciertos factores de una muestra de clientes, ya sea su edad, trabajom estado civil, nivel de educación, impago, prestamos y la fecha del último contacto podemos llegar a la conclusion que el saldo medio anual de una persona tomando en cuanta los factores antes mencionados en promedio es de 1,528 dólares, con un margen de error de 4,421 dólares. \n",
    "\n",
    "Si no tuvieramos las anomalias se encuentran en los datos, como outcome o contact, en donde el estado no se conoce al tener contacto con el cliente o no se sabe si este contacto fue exitoso o falló, el margen de error aumenta porque estos datos son de importancia para motivar a los clientes a hacer depósitos y terner un registro de si esto funcionó o no, y así estos tengan un mayor número de saldo medio anual en sus registros. Se recomendaría obtener esta información para mejorar las predicciones del modelo creado.\n"
   ]
  }
 ],
 "metadata": {
  "kernelspec": {
   "display_name": "Python 3 (ipykernel)",
   "language": "python",
   "name": "python3"
  },
  "language_info": {
   "codemirror_mode": {
    "name": "ipython",
    "version": 3
   },
   "file_extension": ".py",
   "mimetype": "text/x-python",
   "name": "python",
   "nbconvert_exporter": "python",
   "pygments_lexer": "ipython3",
   "version": "3.9.7"
  }
 },
 "nbformat": 4,
 "nbformat_minor": 5
}
